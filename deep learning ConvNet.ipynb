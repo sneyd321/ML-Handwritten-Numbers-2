{
 "cells": [
  {
   "cell_type": "code",
   "execution_count": 1,
   "metadata": {},
   "outputs": [
    {
     "name": "stderr",
     "output_type": "stream",
     "text": [
      "Using TensorFlow backend.\n"
     ]
    },
    {
     "name": "stdout",
     "output_type": "stream",
     "text": [
      "60000 train samples\n",
      "10000 test samples\n"
     ]
    },
    {
     "name": "stderr",
     "output_type": "stream",
     "text": [
      "C:\\Users\\Ryan\\Anaconda3\\envs\\tensorflow1\\lib\\site-packages\\ipykernel_launcher.py:23: UserWarning: Update your `Conv2D` call to the Keras 2 API: `Conv2D(50, padding=\"same\", kernel_size=5)`\n"
     ]
    },
    {
     "name": "stdout",
     "output_type": "stream",
     "text": [
      "Train on 48000 samples, validate on 12000 samples\n",
      "Epoch 1/20\n",
      "48000/48000 [==============================] - 39s 809us/step - loss: 0.1816 - acc: 0.9448 - val_loss: 0.0670 - val_acc: 0.9787\n",
      "Epoch 2/20\n",
      "48000/48000 [==============================] - 22s 463us/step - loss: 0.0486 - acc: 0.9851 - val_loss: 0.0501 - val_acc: 0.9842\n",
      "Epoch 3/20\n",
      "48000/48000 [==============================] - 22s 467us/step - loss: 0.0333 - acc: 0.9894 - val_loss: 0.0333 - val_acc: 0.9897\n",
      "Epoch 4/20\n",
      "48000/48000 [==============================] - 24s 499us/step - loss: 0.0225 - acc: 0.9928 - val_loss: 0.0355 - val_acc: 0.9893\n",
      "Epoch 5/20\n",
      "48000/48000 [==============================] - 25s 525us/step - loss: 0.0168 - acc: 0.9944 - val_loss: 0.0392 - val_acc: 0.9888\n",
      "Epoch 6/20\n",
      "48000/48000 [==============================] - 27s 554us/step - loss: 0.0128 - acc: 0.9957 - val_loss: 0.0319 - val_acc: 0.9906\n",
      "Epoch 7/20\n",
      "48000/48000 [==============================] - 27s 554us/step - loss: 0.0108 - acc: 0.9964 - val_loss: 0.0353 - val_acc: 0.9902\n",
      "Epoch 8/20\n",
      "48000/48000 [==============================] - 27s 554us/step - loss: 0.0087 - acc: 0.9971 - val_loss: 0.0349 - val_acc: 0.9913\n",
      "Epoch 9/20\n",
      "48000/48000 [==============================] - 27s 552us/step - loss: 0.0077 - acc: 0.9975 - val_loss: 0.0371 - val_acc: 0.9899\n",
      "Epoch 10/20\n",
      "48000/48000 [==============================] - 27s 561us/step - loss: 0.0058 - acc: 0.9980 - val_loss: 0.0410 - val_acc: 0.9902\n",
      "Epoch 11/20\n",
      "48000/48000 [==============================] - 27s 569us/step - loss: 0.0063 - acc: 0.9980 - val_loss: 0.0529 - val_acc: 0.9885\n",
      "Epoch 12/20\n",
      "48000/48000 [==============================] - 28s 583us/step - loss: 0.0047 - acc: 0.9984 - val_loss: 0.0360 - val_acc: 0.9913\n",
      "Epoch 13/20\n",
      "48000/48000 [==============================] - 28s 582us/step - loss: 0.0045 - acc: 0.9985 - val_loss: 0.0419 - val_acc: 0.9898\n",
      "Epoch 14/20\n",
      "48000/48000 [==============================] - 28s 582us/step - loss: 0.0057 - acc: 0.9981 - val_loss: 0.0476 - val_acc: 0.9897\n",
      "Epoch 15/20\n",
      "48000/48000 [==============================] - 28s 584us/step - loss: 0.0047 - acc: 0.9985 - val_loss: 0.0461 - val_acc: 0.9908\n",
      "Epoch 16/20\n",
      "48000/48000 [==============================] - 29s 599us/step - loss: 0.0038 - acc: 0.9986 - val_loss: 0.0445 - val_acc: 0.9912\n",
      "Epoch 17/20\n",
      "48000/48000 [==============================] - 29s 599us/step - loss: 0.0033 - acc: 0.9989 - val_loss: 0.0376 - val_acc: 0.9917\n",
      "Epoch 18/20\n",
      "48000/48000 [==============================] - 29s 600us/step - loss: 0.0048 - acc: 0.9984 - val_loss: 0.0418 - val_acc: 0.9916\n",
      "Epoch 19/20\n",
      "48000/48000 [==============================] - 29s 598us/step - loss: 0.0044 - acc: 0.9986 - val_loss: 0.0495 - val_acc: 0.9903\n",
      "Epoch 20/20\n",
      "48000/48000 [==============================] - 29s 598us/step - loss: 0.0030 - acc: 0.9991 - val_loss: 0.0445 - val_acc: 0.9914\n",
      "10000/10000 [==============================] - 3s 313us/step\n",
      "Test score: 0.0397122200866\n",
      "Test accuracy: 0.9921\n"
     ]
    }
   ],
   "source": [
    "from keras import backend as K\n",
    "from keras.models import Sequential\n",
    "from keras.layers.convolutional import Conv2D\n",
    "from keras.layers.convolutional import MaxPooling2D\n",
    "from keras.layers.core import Activation\n",
    "from keras.layers.core import Flatten\n",
    "from keras.layers.core import Dense\n",
    "from keras.datasets import mnist\n",
    "from keras.utils import np_utils\n",
    "from keras.optimizers import SGD, RMSprop, Adam\n",
    "import numpy as np\n",
    "import matplotlib.pyplot as plt\n",
    "\n",
    "class LeNet:\n",
    "    @staticmethod\n",
    "    def build(input_shape, classes):\n",
    "        model = Sequential()    \n",
    "        \n",
    "        model.add(Conv2D(20, kernel_size=5, padding=\"same\", input_shape=input_shape))\n",
    "        model.add(Activation(\"relu\"))\n",
    "        model.add(MaxPooling2D(pool_size=(2, 2), strides=(2,2)))\n",
    "        \n",
    "        model.add(Conv2D(50, kernel_size=5, border_mode=\"same\"))\n",
    "        model.add(Activation(\"relu\"))\n",
    "        model.add(MaxPooling2D(pool_size=(2, 2), strides=(2,2)))\n",
    "        \n",
    "        model.add(Flatten())\n",
    "        model.add(Dense(500))\n",
    "        model.add(Activation(\"relu\"))\n",
    "        \n",
    "        model.add(Dense(classes))\n",
    "        model.add(Activation(\"softmax\"))\n",
    "        return model\n",
    "        \n",
    "NB_EPOCH = 20 #Number of iterations\n",
    "BATCH_SIZE = 128\n",
    "VERBOSE = 1\n",
    "OPTIMIZER = Adam() #type of optimizer \n",
    "IMG_ROWS, IMG_COLS = 28, 28\n",
    "VALIDATION_SPLIT = 0.2 #how much of the dataset is reserved for validation\n",
    "NB_CLASSES = 10 #Number of outputs\n",
    "INPUT_SHAPE = (1, IMG_ROWS, IMG_COLS)\n",
    "\n",
    "(X_train, y_train), (X_test, y_test) = mnist.load_data()\n",
    "\n",
    "K.set_image_dim_ordering(\"th\")\n",
    "\n",
    "X_train = X_train.astype(\"float32\")\n",
    "X_test = X_test.astype(\"float32\")\n",
    "\n",
    "X_train /= 255\n",
    "X_test /= 255\n",
    "\n",
    "X_train = X_train[:, np.newaxis, :, :]\n",
    "X_test = X_test[:, np.newaxis, :, :]\n",
    "\n",
    "\n",
    "print(X_train.shape[0], \"train samples\")\n",
    "print(X_test.shape[0], \"test samples\")\n",
    "\n",
    "y_train = np_utils.to_categorical(y_train, NB_CLASSES)\n",
    "y_test = np_utils.to_categorical(y_test, NB_CLASSES)\n",
    "\n",
    "model = LeNet.build(input_shape=INPUT_SHAPE, classes=NB_CLASSES)\n",
    "model.compile(loss=\"categorical_crossentropy\", optimizer=OPTIMIZER, metrics=[\"accuracy\"])\n",
    "history = model.fit(X_train, y_train, batch_size=BATCH_SIZE, epochs=NB_EPOCH, verbose=VERBOSE, validation_split=VALIDATION_SPLIT)\n",
    "\n",
    "score = model.evaluate(X_test, y_test, verbose=VERBOSE)\n",
    "\n",
    "\n",
    "print(\"Test score:\", score[0])\n",
    "print(\"Test accuracy:\", score[1])\n",
    "\n",
    "\n",
    "        \n",
    "\n",
    "        \n",
    "        \n",
    "        \n",
    "        \n",
    "        \n",
    "        \n",
    "        \n",
    "        \n",
    "        \n",
    "        \n",
    "        "
   ]
  },
  {
   "cell_type": "code",
   "execution_count": 6,
   "metadata": {},
   "outputs": [
    {
     "name": "stdout",
     "output_type": "stream",
     "text": [
      "dict_keys(['val_acc', 'acc', 'loss', 'val_loss'])\n"
     ]
    },
    {
     "data": {
      "image/png": "[encoded data removed]",
      "text/plain": [
       "<matplotlib.figure.Figure at 0x1716d9a80f0>"
      ]
     },
     "metadata": {},
     "output_type": "display_data"
    },
    {
     "data": {
      "image/png": "[encoded data removed]",
      "text/plain": [
       "<matplotlib.figure.Figure at 0x1716da12160>"
      ]
     },
     "metadata": {},
     "output_type": "display_data"
    }
   ],
   "source": [
    "print(history.history.keys())\n",
    "\n",
    "plt.plot(history.history[\"acc\"])\n",
    "plt.plot(history.history[\"val_acc\"])\n",
    "plt.title(\"Model Accuarcy\")\n",
    "plt.ylabel(\"accuarcy\")\n",
    "plt.xlabel(\"epoch\")\n",
    "plt.legend([\"train\", \"test\"], loc='upper left')\n",
    "plt.show()\n",
    "\n",
    "plt.plot(history.history[\"loss\"])\n",
    "plt.plot(history.history[\"val_loss\"])\n",
    "plt.title(\"Model Loss\")\n",
    "plt.ylabel(\"loss\")\n",
    "plt.xlabel(\"epoch\")\n",
    "plt.legend([\"train\", \"test\"], loc=\"upper left\")\n",
    "plt.show()\n",
    "\n",
    "\n",
    "\n",
    "\n",
    "\n",
    "\n",
    "\n",
    "\n",
    "\n",
    "\n",
    "\n",
    "\n",
    "\n",
    "\n",
    "\n",
    "\n"
   ]
  },
  {
   "cell_type": "code",
   "execution_count": null,
   "metadata": {
    "collapsed": true
   },
   "outputs": [],
   "source": []
  }
 ],
 "metadata": {
  "kernelspec": {
   "display_name": "Python 3",
   "language": "python",
   "name": "python3"
  },
  "language_info": {
   "codemirror_mode": {
    "name": "ipython",
    "version": 3
   },
   "file_extension": ".py",
   "mimetype": "text/x-python",
   "name": "python",
   "nbconvert_exporter": "python",
   "pygments_lexer": "ipython3",
   "version": "3.6.1"
  }
 },
 "nbformat": 4,
 "nbformat_minor": 2
}
